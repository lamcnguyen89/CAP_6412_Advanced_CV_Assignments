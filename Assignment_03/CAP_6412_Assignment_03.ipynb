{
 "cells": [
  {
   "cell_type": "markdown",
   "metadata": {},
   "source": [
    "# **Assignment 3: LMMs**\n",
    "\n",
    "For this assignment, you will be using colab.\n",
    "\n",
    "Please complete and submit this assignment by February 21, 11:59 PM. Download and\n",
    "submit the .ipynb file and share the notebook with the TA (swetha.sirnam@ucf.edu and\n",
    "swethacrcv@gmail.com)\n",
    "\n",
    "## Useful Resources:\n",
    "\n",
    "**PyTorch Colab Documentation:**\n",
    "https://pytorch.org/tutorials/beginner/colab.html\n",
    "\n",
    "**HuggingFace Sample Notebooks:**\n",
    "https://huggingface.co/docs/transformers/en/notebooks\n",
    "\n",
    "**LlaVA-OneVision**\n",
    "Model Doc:\n",
    "https://huggingface.co/docs/transformers/en/model_doc/llava_onevision\n",
    "Weights: https://huggingface.co/lmms-lab/llava-onevision-qwen2-0.5b-ov\n",
    "\n",
    "**PaliGemma**\n",
    "Model Doc: https://huggingface.co/docs/transformers/en/model_doc/paligemma\n",
    "Weights: https://huggingface.co/google/paligemma-3b-mix-224\n",
    "\n",
    "**Qwen2VL**\n",
    "Model Doc: https://huggingface.co/docs/transformers/en/model_doc/qwen2_vl\n",
    "Weights: https://huggingface.co/Qwen/Qwen2-VL-2B-Instruct\\\n",
    "Full Family: https://huggingface.co/collections/Qwen/qwen2-vl-\n",
    "66cee7455501d7126940800d\n",
    "\n",
    "\n",
    "Sample Image: http://images.cocodataset.org/val2017/000000039769.jpg\n",
    "\n",
    "\n",
    "**Platinum Bench**\n",
    "Dataset: https://huggingface.co/datasets/madrylab/platinum-bench\n",
    "Paper: https://arxiv.org/abs/2502.03461\n",
    "\n",
    "\n",
    "## Tasks:\n",
    "\n",
    "1. Setup a Google Colab and load the above 3 models onto GPU from huggingface\n",
    "and show memory usage for each model. **[10 points]**\n",
    "\n",
    "2. Run inference on all 3 models on the sample image above to generate detailed\n",
    "description. **[10 points]**\n",
    "\n",
    "3. Evaluate each model successively on the clean (consensus + verified +\n",
    "revised ) part of platinum bench’s vqa and gsm8k subsets [3 x 10 + 3 x 10 = 60\n",
    "points]\n",
    "\n",
    "4. Scaling experiments: Evaluate on vqa and gsm8k subsets (as in Task 3) on\n",
    "Qwen2VL and analyze the impact of scaling, compare the performance and\n",
    "inference time. [2 x 10 = 20 points]\n"
   ]
  },
  {
   "cell_type": "markdown",
   "metadata": {},
   "source": [
    "# Import Packages"
   ]
  },
  {
   "cell_type": "code",
   "execution_count": null,
   "metadata": {},
   "outputs": [
    {
     "name": "stdout",
     "output_type": "stream",
     "text": [
      "Requirement already satisfied: python-dotenv in /home/malneyugfl/anaconda3/envs/huggingface/lib/python3.10/site-packages (1.0.1)\n",
      "Note: you may need to restart the kernel to use updated packages.\n",
      "Collecting git+https://github.com/huggingface/transformers\n",
      "  Cloning https://github.com/huggingface/transformers to /tmp/pip-req-build-i7qhyu_d\n",
      "  Running command git clone --filter=blob:none --quiet https://github.com/huggingface/transformers /tmp/pip-req-build-i7qhyu_d\n",
      "  Resolved https://github.com/huggingface/transformers to commit 9f51dc25357bcde280a02b59e80b66248b018ca4\n",
      "  Installing build dependencies ... \u001b[?25ldone\n",
      "\u001b[?25h  Getting requirements to build wheel ... \u001b[?25ldone\n",
      "\u001b[?25h  Preparing metadata (pyproject.toml) ... \u001b[?25ldone\n",
      "\u001b[?25hRequirement already satisfied: filelock in /home/malneyugfl/anaconda3/envs/huggingface/lib/python3.10/site-packages (from transformers==4.50.0.dev0) (3.17.0)\n",
      "Requirement already satisfied: huggingface-hub<1.0,>=0.26.0 in /home/malneyugfl/anaconda3/envs/huggingface/lib/python3.10/site-packages (from transformers==4.50.0.dev0) (0.28.1)\n",
      "Requirement already satisfied: numpy>=1.17 in /home/malneyugfl/anaconda3/envs/huggingface/lib/python3.10/site-packages (from transformers==4.50.0.dev0) (2.2.3)\n",
      "Requirement already satisfied: packaging>=20.0 in /home/malneyugfl/anaconda3/envs/huggingface/lib/python3.10/site-packages (from transformers==4.50.0.dev0) (24.2)\n",
      "Requirement already satisfied: pyyaml>=5.1 in /home/malneyugfl/anaconda3/envs/huggingface/lib/python3.10/site-packages (from transformers==4.50.0.dev0) (6.0.2)\n",
      "Requirement already satisfied: regex!=2019.12.17 in /home/malneyugfl/anaconda3/envs/huggingface/lib/python3.10/site-packages (from transformers==4.50.0.dev0) (2024.11.6)\n",
      "Requirement already satisfied: requests in /home/malneyugfl/anaconda3/envs/huggingface/lib/python3.10/site-packages (from transformers==4.50.0.dev0) (2.32.3)\n",
      "Requirement already satisfied: tokenizers<0.22,>=0.21 in /home/malneyugfl/anaconda3/envs/huggingface/lib/python3.10/site-packages (from transformers==4.50.0.dev0) (0.21.0)\n",
      "Requirement already satisfied: safetensors>=0.4.1 in /home/malneyugfl/anaconda3/envs/huggingface/lib/python3.10/site-packages (from transformers==4.50.0.dev0) (0.5.2)\n",
      "Requirement already satisfied: tqdm>=4.27 in /home/malneyugfl/anaconda3/envs/huggingface/lib/python3.10/site-packages (from transformers==4.50.0.dev0) (4.67.1)\n",
      "Requirement already satisfied: fsspec>=2023.5.0 in /home/malneyugfl/anaconda3/envs/huggingface/lib/python3.10/site-packages (from huggingface-hub<1.0,>=0.26.0->transformers==4.50.0.dev0) (2025.2.0)\n",
      "Requirement already satisfied: typing-extensions>=3.7.4.3 in /home/malneyugfl/anaconda3/envs/huggingface/lib/python3.10/site-packages (from huggingface-hub<1.0,>=0.26.0->transformers==4.50.0.dev0) (4.12.2)\n",
      "Requirement already satisfied: charset-normalizer<4,>=2 in /home/malneyugfl/anaconda3/envs/huggingface/lib/python3.10/site-packages (from requests->transformers==4.50.0.dev0) (3.4.1)\n",
      "Requirement already satisfied: idna<4,>=2.5 in /home/malneyugfl/anaconda3/envs/huggingface/lib/python3.10/site-packages (from requests->transformers==4.50.0.dev0) (3.10)\n",
      "Requirement already satisfied: urllib3<3,>=1.21.1 in /home/malneyugfl/anaconda3/envs/huggingface/lib/python3.10/site-packages (from requests->transformers==4.50.0.dev0) (2.3.0)\n",
      "Requirement already satisfied: certifi>=2017.4.17 in /home/malneyugfl/anaconda3/envs/huggingface/lib/python3.10/site-packages (from requests->transformers==4.50.0.dev0) (2025.1.31)\n",
      "Note: you may need to restart the kernel to use updated packages.\n",
      "Requirement already satisfied: huggingface_hub in /home/malneyugfl/anaconda3/envs/huggingface/lib/python3.10/site-packages (0.28.1)\n",
      "Requirement already satisfied: filelock in /home/malneyugfl/anaconda3/envs/huggingface/lib/python3.10/site-packages (from huggingface_hub) (3.17.0)\n",
      "Requirement already satisfied: fsspec>=2023.5.0 in /home/malneyugfl/anaconda3/envs/huggingface/lib/python3.10/site-packages (from huggingface_hub) (2025.2.0)\n",
      "Requirement already satisfied: packaging>=20.9 in /home/malneyugfl/anaconda3/envs/huggingface/lib/python3.10/site-packages (from huggingface_hub) (24.2)\n",
      "Requirement already satisfied: pyyaml>=5.1 in /home/malneyugfl/anaconda3/envs/huggingface/lib/python3.10/site-packages (from huggingface_hub) (6.0.2)\n",
      "Requirement already satisfied: requests in /home/malneyugfl/anaconda3/envs/huggingface/lib/python3.10/site-packages (from huggingface_hub) (2.32.3)\n",
      "Requirement already satisfied: tqdm>=4.42.1 in /home/malneyugfl/anaconda3/envs/huggingface/lib/python3.10/site-packages (from huggingface_hub) (4.67.1)\n",
      "Requirement already satisfied: typing-extensions>=3.7.4.3 in /home/malneyugfl/anaconda3/envs/huggingface/lib/python3.10/site-packages (from huggingface_hub) (4.12.2)\n",
      "Requirement already satisfied: charset-normalizer<4,>=2 in /home/malneyugfl/anaconda3/envs/huggingface/lib/python3.10/site-packages (from requests->huggingface_hub) (3.4.1)\n",
      "Requirement already satisfied: idna<4,>=2.5 in /home/malneyugfl/anaconda3/envs/huggingface/lib/python3.10/site-packages (from requests->huggingface_hub) (3.10)\n",
      "Requirement already satisfied: urllib3<3,>=1.21.1 in /home/malneyugfl/anaconda3/envs/huggingface/lib/python3.10/site-packages (from requests->huggingface_hub) (2.3.0)\n",
      "Requirement already satisfied: certifi>=2017.4.17 in /home/malneyugfl/anaconda3/envs/huggingface/lib/python3.10/site-packages (from requests->huggingface_hub) (2025.1.31)\n",
      "Note: you may need to restart the kernel to use updated packages.\n",
      "Requirement already satisfied: diffusers in /home/malneyugfl/anaconda3/envs/huggingface/lib/python3.10/site-packages (0.32.2)\n",
      "Requirement already satisfied: transformers in /home/malneyugfl/anaconda3/envs/huggingface/lib/python3.10/site-packages (4.50.0.dev0)\n",
      "Requirement already satisfied: accelerate in /home/malneyugfl/anaconda3/envs/huggingface/lib/python3.10/site-packages (1.4.0)\n",
      "Requirement already satisfied: mediapy in /home/malneyugfl/anaconda3/envs/huggingface/lib/python3.10/site-packages (1.2.2)\n",
      "Requirement already satisfied: peft in /home/malneyugfl/anaconda3/envs/huggingface/lib/python3.10/site-packages (0.14.0)\n",
      "Requirement already satisfied: pytorch_fid in /home/malneyugfl/anaconda3/envs/huggingface/lib/python3.10/site-packages (0.3.0)\n",
      "Requirement already satisfied: importlib-metadata in /home/malneyugfl/anaconda3/envs/huggingface/lib/python3.10/site-packages (from diffusers) (8.6.1)\n",
      "Requirement already satisfied: filelock in /home/malneyugfl/anaconda3/envs/huggingface/lib/python3.10/site-packages (from diffusers) (3.17.0)\n",
      "Requirement already satisfied: huggingface-hub>=0.23.2 in /home/malneyugfl/anaconda3/envs/huggingface/lib/python3.10/site-packages (from diffusers) (0.28.1)\n",
      "Requirement already satisfied: numpy in /home/malneyugfl/anaconda3/envs/huggingface/lib/python3.10/site-packages (from diffusers) (2.2.3)\n",
      "Requirement already satisfied: regex!=2019.12.17 in /home/malneyugfl/anaconda3/envs/huggingface/lib/python3.10/site-packages (from diffusers) (2024.11.6)\n",
      "Requirement already satisfied: requests in /home/malneyugfl/anaconda3/envs/huggingface/lib/python3.10/site-packages (from diffusers) (2.32.3)\n",
      "Requirement already satisfied: safetensors>=0.3.1 in /home/malneyugfl/anaconda3/envs/huggingface/lib/python3.10/site-packages (from diffusers) (0.5.2)\n",
      "Requirement already satisfied: Pillow in /home/malneyugfl/anaconda3/envs/huggingface/lib/python3.10/site-packages (from diffusers) (11.1.0)\n",
      "Requirement already satisfied: packaging>=20.0 in /home/malneyugfl/anaconda3/envs/huggingface/lib/python3.10/site-packages (from transformers) (24.2)\n",
      "Requirement already satisfied: pyyaml>=5.1 in /home/malneyugfl/anaconda3/envs/huggingface/lib/python3.10/site-packages (from transformers) (6.0.2)\n",
      "Requirement already satisfied: tokenizers<0.22,>=0.21 in /home/malneyugfl/anaconda3/envs/huggingface/lib/python3.10/site-packages (from transformers) (0.21.0)\n",
      "Requirement already satisfied: tqdm>=4.27 in /home/malneyugfl/anaconda3/envs/huggingface/lib/python3.10/site-packages (from transformers) (4.67.1)\n",
      "Requirement already satisfied: psutil in /home/malneyugfl/anaconda3/envs/huggingface/lib/python3.10/site-packages (from accelerate) (6.1.1)\n",
      "Requirement already satisfied: torch>=2.0.0 in /home/malneyugfl/anaconda3/envs/huggingface/lib/python3.10/site-packages (from accelerate) (2.6.0)\n",
      "Requirement already satisfied: ipython in /home/malneyugfl/anaconda3/envs/huggingface/lib/python3.10/site-packages (from mediapy) (8.30.0)\n",
      "Requirement already satisfied: matplotlib in /home/malneyugfl/anaconda3/envs/huggingface/lib/python3.10/site-packages (from mediapy) (3.10.0)\n",
      "Requirement already satisfied: scipy in /home/malneyugfl/anaconda3/envs/huggingface/lib/python3.10/site-packages (from pytorch_fid) (1.15.2)\n",
      "Requirement already satisfied: torchvision>=0.2.2 in /home/malneyugfl/anaconda3/envs/huggingface/lib/python3.10/site-packages (from pytorch_fid) (0.21.0)\n",
      "Requirement already satisfied: fsspec>=2023.5.0 in /home/malneyugfl/anaconda3/envs/huggingface/lib/python3.10/site-packages (from huggingface-hub>=0.23.2->diffusers) (2025.2.0)\n",
      "Requirement already satisfied: typing-extensions>=3.7.4.3 in /home/malneyugfl/anaconda3/envs/huggingface/lib/python3.10/site-packages (from huggingface-hub>=0.23.2->diffusers) (4.12.2)\n",
      "Requirement already satisfied: networkx in /home/malneyugfl/anaconda3/envs/huggingface/lib/python3.10/site-packages (from torch>=2.0.0->accelerate) (3.4.2)\n",
      "Requirement already satisfied: jinja2 in /home/malneyugfl/anaconda3/envs/huggingface/lib/python3.10/site-packages (from torch>=2.0.0->accelerate) (3.1.5)\n",
      "Requirement already satisfied: nvidia-cuda-nvrtc-cu12==12.4.127 in /home/malneyugfl/anaconda3/envs/huggingface/lib/python3.10/site-packages (from torch>=2.0.0->accelerate) (12.4.127)\n",
      "Requirement already satisfied: nvidia-cuda-runtime-cu12==12.4.127 in /home/malneyugfl/anaconda3/envs/huggingface/lib/python3.10/site-packages (from torch>=2.0.0->accelerate) (12.4.127)\n",
      "Requirement already satisfied: nvidia-cuda-cupti-cu12==12.4.127 in /home/malneyugfl/anaconda3/envs/huggingface/lib/python3.10/site-packages (from torch>=2.0.0->accelerate) (12.4.127)\n",
      "Requirement already satisfied: nvidia-cudnn-cu12==9.1.0.70 in /home/malneyugfl/anaconda3/envs/huggingface/lib/python3.10/site-packages (from torch>=2.0.0->accelerate) (9.1.0.70)\n",
      "Requirement already satisfied: nvidia-cublas-cu12==12.4.5.8 in /home/malneyugfl/anaconda3/envs/huggingface/lib/python3.10/site-packages (from torch>=2.0.0->accelerate) (12.4.5.8)\n",
      "Requirement already satisfied: nvidia-cufft-cu12==11.2.1.3 in /home/malneyugfl/anaconda3/envs/huggingface/lib/python3.10/site-packages (from torch>=2.0.0->accelerate) (11.2.1.3)\n",
      "Requirement already satisfied: nvidia-curand-cu12==10.3.5.147 in /home/malneyugfl/anaconda3/envs/huggingface/lib/python3.10/site-packages (from torch>=2.0.0->accelerate) (10.3.5.147)\n",
      "Requirement already satisfied: nvidia-cusolver-cu12==11.6.1.9 in /home/malneyugfl/anaconda3/envs/huggingface/lib/python3.10/site-packages (from torch>=2.0.0->accelerate) (11.6.1.9)\n",
      "Requirement already satisfied: nvidia-cusparse-cu12==12.3.1.170 in /home/malneyugfl/anaconda3/envs/huggingface/lib/python3.10/site-packages (from torch>=2.0.0->accelerate) (12.3.1.170)\n",
      "Requirement already satisfied: nvidia-cusparselt-cu12==0.6.2 in /home/malneyugfl/anaconda3/envs/huggingface/lib/python3.10/site-packages (from torch>=2.0.0->accelerate) (0.6.2)\n",
      "Requirement already satisfied: nvidia-nccl-cu12==2.21.5 in /home/malneyugfl/anaconda3/envs/huggingface/lib/python3.10/site-packages (from torch>=2.0.0->accelerate) (2.21.5)\n",
      "Requirement already satisfied: nvidia-nvtx-cu12==12.4.127 in /home/malneyugfl/anaconda3/envs/huggingface/lib/python3.10/site-packages (from torch>=2.0.0->accelerate) (12.4.127)\n",
      "Requirement already satisfied: nvidia-nvjitlink-cu12==12.4.127 in /home/malneyugfl/anaconda3/envs/huggingface/lib/python3.10/site-packages (from torch>=2.0.0->accelerate) (12.4.127)\n",
      "Requirement already satisfied: triton==3.2.0 in /home/malneyugfl/anaconda3/envs/huggingface/lib/python3.10/site-packages (from torch>=2.0.0->accelerate) (3.2.0)\n",
      "Requirement already satisfied: sympy==1.13.1 in /home/malneyugfl/anaconda3/envs/huggingface/lib/python3.10/site-packages (from torch>=2.0.0->accelerate) (1.13.1)\n",
      "Requirement already satisfied: mpmath<1.4,>=1.1.0 in /home/malneyugfl/anaconda3/envs/huggingface/lib/python3.10/site-packages (from sympy==1.13.1->torch>=2.0.0->accelerate) (1.3.0)\n",
      "Requirement already satisfied: zipp>=3.20 in /home/malneyugfl/anaconda3/envs/huggingface/lib/python3.10/site-packages (from importlib-metadata->diffusers) (3.21.0)\n",
      "Requirement already satisfied: decorator in /home/malneyugfl/anaconda3/envs/huggingface/lib/python3.10/site-packages (from ipython->mediapy) (5.1.1)\n",
      "Requirement already satisfied: jedi>=0.16 in /home/malneyugfl/anaconda3/envs/huggingface/lib/python3.10/site-packages (from ipython->mediapy) (0.19.2)\n",
      "Requirement already satisfied: matplotlib-inline in /home/malneyugfl/anaconda3/envs/huggingface/lib/python3.10/site-packages (from ipython->mediapy) (0.1.6)\n",
      "Requirement already satisfied: prompt-toolkit<3.1.0,>=3.0.41 in /home/malneyugfl/anaconda3/envs/huggingface/lib/python3.10/site-packages (from ipython->mediapy) (3.0.43)\n",
      "Requirement already satisfied: pygments>=2.4.0 in /home/malneyugfl/anaconda3/envs/huggingface/lib/python3.10/site-packages (from ipython->mediapy) (2.15.1)\n",
      "Requirement already satisfied: stack-data in /home/malneyugfl/anaconda3/envs/huggingface/lib/python3.10/site-packages (from ipython->mediapy) (0.2.0)\n",
      "Requirement already satisfied: traitlets>=5.13.0 in /home/malneyugfl/anaconda3/envs/huggingface/lib/python3.10/site-packages (from ipython->mediapy) (5.14.3)\n",
      "Requirement already satisfied: exceptiongroup in /home/malneyugfl/anaconda3/envs/huggingface/lib/python3.10/site-packages (from ipython->mediapy) (1.2.0)\n",
      "Requirement already satisfied: pexpect>4.3 in /home/malneyugfl/anaconda3/envs/huggingface/lib/python3.10/site-packages (from ipython->mediapy) (4.8.0)\n",
      "Requirement already satisfied: contourpy>=1.0.1 in /home/malneyugfl/anaconda3/envs/huggingface/lib/python3.10/site-packages (from matplotlib->mediapy) (1.3.1)\n",
      "Requirement already satisfied: cycler>=0.10 in /home/malneyugfl/anaconda3/envs/huggingface/lib/python3.10/site-packages (from matplotlib->mediapy) (0.12.1)\n",
      "Requirement already satisfied: fonttools>=4.22.0 in /home/malneyugfl/anaconda3/envs/huggingface/lib/python3.10/site-packages (from matplotlib->mediapy) (4.56.0)\n",
      "Requirement already satisfied: kiwisolver>=1.3.1 in /home/malneyugfl/anaconda3/envs/huggingface/lib/python3.10/site-packages (from matplotlib->mediapy) (1.4.8)\n",
      "Requirement already satisfied: pyparsing>=2.3.1 in /home/malneyugfl/anaconda3/envs/huggingface/lib/python3.10/site-packages (from matplotlib->mediapy) (3.2.1)\n",
      "Requirement already satisfied: python-dateutil>=2.7 in /home/malneyugfl/anaconda3/envs/huggingface/lib/python3.10/site-packages (from matplotlib->mediapy) (2.9.0.post0)\n",
      "Requirement already satisfied: charset-normalizer<4,>=2 in /home/malneyugfl/anaconda3/envs/huggingface/lib/python3.10/site-packages (from requests->diffusers) (3.4.1)\n",
      "Requirement already satisfied: idna<4,>=2.5 in /home/malneyugfl/anaconda3/envs/huggingface/lib/python3.10/site-packages (from requests->diffusers) (3.10)\n",
      "Requirement already satisfied: urllib3<3,>=1.21.1 in /home/malneyugfl/anaconda3/envs/huggingface/lib/python3.10/site-packages (from requests->diffusers) (2.3.0)\n",
      "Requirement already satisfied: certifi>=2017.4.17 in /home/malneyugfl/anaconda3/envs/huggingface/lib/python3.10/site-packages (from requests->diffusers) (2025.1.31)\n",
      "Requirement already satisfied: parso<0.9.0,>=0.8.4 in /home/malneyugfl/anaconda3/envs/huggingface/lib/python3.10/site-packages (from jedi>=0.16->ipython->mediapy) (0.8.4)\n",
      "Requirement already satisfied: ptyprocess>=0.5 in /home/malneyugfl/anaconda3/envs/huggingface/lib/python3.10/site-packages (from pexpect>4.3->ipython->mediapy) (0.7.0)\n",
      "Requirement already satisfied: wcwidth in /home/malneyugfl/anaconda3/envs/huggingface/lib/python3.10/site-packages (from prompt-toolkit<3.1.0,>=3.0.41->ipython->mediapy) (0.2.5)\n",
      "Requirement already satisfied: six>=1.5 in /home/malneyugfl/anaconda3/envs/huggingface/lib/python3.10/site-packages (from python-dateutil>=2.7->matplotlib->mediapy) (1.16.0)\n",
      "Requirement already satisfied: MarkupSafe>=2.0 in /home/malneyugfl/anaconda3/envs/huggingface/lib/python3.10/site-packages (from jinja2->torch>=2.0.0->accelerate) (3.0.2)\n",
      "Requirement already satisfied: executing in /home/malneyugfl/anaconda3/envs/huggingface/lib/python3.10/site-packages (from stack-data->ipython->mediapy) (0.8.3)\n",
      "Requirement already satisfied: asttokens in /home/malneyugfl/anaconda3/envs/huggingface/lib/python3.10/site-packages (from stack-data->ipython->mediapy) (2.0.5)\n",
      "Requirement already satisfied: pure-eval in /home/malneyugfl/anaconda3/envs/huggingface/lib/python3.10/site-packages (from stack-data->ipython->mediapy) (0.2.2)\n",
      "Note: you may need to restart the kernel to use updated packages.\n",
      "Requirement already satisfied: torch in /home/malneyugfl/anaconda3/envs/huggingface/lib/python3.10/site-packages (2.6.0)\n",
      "Requirement already satisfied: torchvision in /home/malneyugfl/anaconda3/envs/huggingface/lib/python3.10/site-packages (0.21.0)\n",
      "Requirement already satisfied: torchaudio in /home/malneyugfl/anaconda3/envs/huggingface/lib/python3.10/site-packages (2.6.0)\n",
      "Requirement already satisfied: filelock in /home/malneyugfl/anaconda3/envs/huggingface/lib/python3.10/site-packages (from torch) (3.17.0)\n",
      "Requirement already satisfied: typing-extensions>=4.10.0 in /home/malneyugfl/anaconda3/envs/huggingface/lib/python3.10/site-packages (from torch) (4.12.2)\n",
      "Requirement already satisfied: networkx in /home/malneyugfl/anaconda3/envs/huggingface/lib/python3.10/site-packages (from torch) (3.4.2)\n",
      "Requirement already satisfied: jinja2 in /home/malneyugfl/anaconda3/envs/huggingface/lib/python3.10/site-packages (from torch) (3.1.5)\n",
      "Requirement already satisfied: fsspec in /home/malneyugfl/anaconda3/envs/huggingface/lib/python3.10/site-packages (from torch) (2025.2.0)\n",
      "Requirement already satisfied: nvidia-cuda-nvrtc-cu12==12.4.127 in /home/malneyugfl/anaconda3/envs/huggingface/lib/python3.10/site-packages (from torch) (12.4.127)\n",
      "Requirement already satisfied: nvidia-cuda-runtime-cu12==12.4.127 in /home/malneyugfl/anaconda3/envs/huggingface/lib/python3.10/site-packages (from torch) (12.4.127)\n",
      "Requirement already satisfied: nvidia-cuda-cupti-cu12==12.4.127 in /home/malneyugfl/anaconda3/envs/huggingface/lib/python3.10/site-packages (from torch) (12.4.127)\n",
      "Requirement already satisfied: nvidia-cudnn-cu12==9.1.0.70 in /home/malneyugfl/anaconda3/envs/huggingface/lib/python3.10/site-packages (from torch) (9.1.0.70)\n",
      "Requirement already satisfied: nvidia-cublas-cu12==12.4.5.8 in /home/malneyugfl/anaconda3/envs/huggingface/lib/python3.10/site-packages (from torch) (12.4.5.8)\n",
      "Requirement already satisfied: nvidia-cufft-cu12==11.2.1.3 in /home/malneyugfl/anaconda3/envs/huggingface/lib/python3.10/site-packages (from torch) (11.2.1.3)\n",
      "Requirement already satisfied: nvidia-curand-cu12==10.3.5.147 in /home/malneyugfl/anaconda3/envs/huggingface/lib/python3.10/site-packages (from torch) (10.3.5.147)\n",
      "Requirement already satisfied: nvidia-cusolver-cu12==11.6.1.9 in /home/malneyugfl/anaconda3/envs/huggingface/lib/python3.10/site-packages (from torch) (11.6.1.9)\n",
      "Requirement already satisfied: nvidia-cusparse-cu12==12.3.1.170 in /home/malneyugfl/anaconda3/envs/huggingface/lib/python3.10/site-packages (from torch) (12.3.1.170)\n",
      "Requirement already satisfied: nvidia-cusparselt-cu12==0.6.2 in /home/malneyugfl/anaconda3/envs/huggingface/lib/python3.10/site-packages (from torch) (0.6.2)\n",
      "Requirement already satisfied: nvidia-nccl-cu12==2.21.5 in /home/malneyugfl/anaconda3/envs/huggingface/lib/python3.10/site-packages (from torch) (2.21.5)\n",
      "Requirement already satisfied: nvidia-nvtx-cu12==12.4.127 in /home/malneyugfl/anaconda3/envs/huggingface/lib/python3.10/site-packages (from torch) (12.4.127)\n",
      "Requirement already satisfied: nvidia-nvjitlink-cu12==12.4.127 in /home/malneyugfl/anaconda3/envs/huggingface/lib/python3.10/site-packages (from torch) (12.4.127)\n",
      "Requirement already satisfied: triton==3.2.0 in /home/malneyugfl/anaconda3/envs/huggingface/lib/python3.10/site-packages (from torch) (3.2.0)\n",
      "Requirement already satisfied: sympy==1.13.1 in /home/malneyugfl/anaconda3/envs/huggingface/lib/python3.10/site-packages (from torch) (1.13.1)\n",
      "Requirement already satisfied: mpmath<1.4,>=1.1.0 in /home/malneyugfl/anaconda3/envs/huggingface/lib/python3.10/site-packages (from sympy==1.13.1->torch) (1.3.0)\n",
      "Requirement already satisfied: numpy in /home/malneyugfl/anaconda3/envs/huggingface/lib/python3.10/site-packages (from torchvision) (2.2.3)\n",
      "Requirement already satisfied: pillow!=8.3.*,>=5.3.0 in /home/malneyugfl/anaconda3/envs/huggingface/lib/python3.10/site-packages (from torchvision) (11.1.0)\n",
      "Requirement already satisfied: MarkupSafe>=2.0 in /home/malneyugfl/anaconda3/envs/huggingface/lib/python3.10/site-packages (from jinja2->torch) (3.0.2)\n",
      "Note: you may need to restart the kernel to use updated packages.\n",
      "Token is valid (permission: fineGrained).\n",
      "The token `Desktop_PC_Ubuntu` has been saved to /mnt/Creative/SoftwareDevelopment/huggingface/cache/stored_tokens\n",
      "Your token has been saved in your configured git credential helpers (store).\n",
      "Your token has been saved to /mnt/Creative/SoftwareDevelopment/huggingface/cache/token\n",
      "Login successful.\n",
      "The current active token is: `Desktop_PC_Ubuntu`\n"
     ]
    }
   ],
   "source": [
    "# importing os module for environment variables\n",
    "import os\n",
    "# importing necessary functions from dotenv library\n",
    "from dotenv import load_dotenv, dotenv_values \n",
    "# loading variables from .env file\n",
    "load_dotenv() \n",
    "\n",
    "# Install HuggingFace in system if not installed\n",
    "%pip install python-dotenv\n",
    "%pip install git+https://github.com/huggingface/transformers\n",
    "%pip install --upgrade huggingface_hub\n",
    "%pip install --upgrade diffusers transformers accelerate mediapy peft pytorch_fid\n",
    "%pip install torch torchvision torchaudio\n",
    "\n",
    "# Set model cache location \n",
    "import os\n",
    "os.environ['HF_HOME'] = os.getenv(\"CACHE_LOCATION\")\n",
    "!export HF_HOME={os.getenv(\"CACHE_LOCATION\")}\n",
    "\n",
    "\n",
    "# Login to HuggingFace\n",
    "# This code will save huggingface token to PC, but your PC first has to have github token stored in pc\n",
    "!huggingface-cli login --token {os.getenv(\"HUGGINGFACE_TOKEN\")} --add-to-git-credential\n",
    "\n",
    "\n"
   ]
  },
  {
   "cell_type": "code",
   "execution_count": null,
   "metadata": {},
   "outputs": [
    {
     "name": "stdout",
     "output_type": "stream",
     "text": [
      "/mnt/Creative/SoftwareDevelopment/huggingface/cache/\n"
     ]
    }
   ],
   "source": [
    "# Prints out the location that the models are downloaded to\n",
    "print(os.getenv(\"CACHE_LOCATION\"))"
   ]
  },
  {
   "cell_type": "markdown",
   "metadata": {},
   "source": [
    "## Import LlaVA-OneVision Model and Check GPU Usage\n"
   ]
  },
  {
   "cell_type": "code",
   "execution_count": null,
   "metadata": {},
   "outputs": [
    {
     "name": "stderr",
     "output_type": "stream",
     "text": [
      "/home/malneyugfl/anaconda3/envs/huggingface/lib/python3.10/site-packages/tqdm/auto.py:21: TqdmWarning: IProgress not found. Please update jupyter and ipywidgets. See https://ipywidgets.readthedocs.io/en/stable/user_install.html\n",
      "  from .autonotebook import tqdm as notebook_tqdm\n",
      "Using a slow image processor as `use_fast` is unset and a slow processor was saved with this model. `use_fast=True` will be the default behavior in v4.48, even if the model was saved with a slow processor. This will result in minor differences in outputs. You'll still be able to use a slow processor with `use_fast=False`.\n",
      "Downloading shards: 100%|██████████| 4/4 [07:09<00:00, 107.40s/it]\n",
      "Sliding Window Attention is enabled but not implemented for `sdpa`; unexpected results may be encountered.\n",
      "Loading checkpoint shards: 100%|██████████| 4/4 [00:26<00:00,  6.65s/it]\n"
     ]
    }
   ],
   "source": [
    "from transformers import AutoProcessor, LlavaOnevisionForConditionalGeneration\n",
    "import torch\n",
    "\n",
    "llava_model_id = \"llava-hf/llava-onevision-qwen2-7b-ov-hf\"\n",
    "llava_processor = AutoProcessor.from_pretrained(llava_model_id) \n",
    "llava_model = LlavaOnevisionForConditionalGeneration.from_pretrained(\n",
    "    llava_model_id,\n",
    "    torch_dtype=torch.float16,\n",
    "    low_cpu_mem_usage=True,\n",
    "    device_map=\"auto\"\n",
    ")"
   ]
  },
  {
   "cell_type": "code",
   "execution_count": 5,
   "metadata": {},
   "outputs": [
    {
     "name": "stdout",
     "output_type": "stream",
     "text": [
      "Wed Feb 19 01:38:51 2025       \n",
      "+-----------------------------------------------------------------------------------------+\n",
      "| NVIDIA-SMI 550.120                Driver Version: 550.120        CUDA Version: 12.4     |\n",
      "|-----------------------------------------+------------------------+----------------------+\n",
      "| GPU  Name                 Persistence-M | Bus-Id          Disp.A | Volatile Uncorr. ECC |\n",
      "| Fan  Temp   Perf          Pwr:Usage/Cap |           Memory-Usage | GPU-Util  Compute M. |\n",
      "|                                         |                        |               MIG M. |\n",
      "|=========================================+========================+======================|\n",
      "|   0  NVIDIA GeForce RTX 3090        Off |   00000000:01:00.0  On |                  N/A |\n",
      "| 30%   32C    P8             41W /  350W |    8118MiB /  24576MiB |     20%      Default |\n",
      "|                                         |                        |                  N/A |\n",
      "+-----------------------------------------+------------------------+----------------------+\n",
      "|   1  NVIDIA GeForce RTX 3090        Off |   00000000:02:00.0 Off |                  N/A |\n",
      "| 30%   30C    P8             27W /  350W |    8525MiB /  24576MiB |      0%      Default |\n",
      "|                                         |                        |                  N/A |\n",
      "+-----------------------------------------+------------------------+----------------------+\n",
      "                                                                                         \n",
      "+-----------------------------------------------------------------------------------------+\n",
      "| Processes:                                                                              |\n",
      "|  GPU   GI   CI        PID   Type   Process name                              GPU Memory |\n",
      "|        ID   ID                                                               Usage      |\n",
      "|=========================================================================================|\n",
      "|    0   N/A  N/A      7249      G   /usr/lib/xorg/Xorg                            328MiB |\n",
      "|    0   N/A  N/A      7544      G   /usr/bin/gnome-shell                           42MiB |\n",
      "|    0   N/A  N/A      8110      G   /usr/libexec/xdg-desktop-portal-gnome          12MiB |\n",
      "|    0   N/A  N/A      8354      G   ...f41071bbc46dccb261fbce7f060d1717b6f         36MiB |\n",
      "|    0   N/A  N/A      9128      G   ...erProcess --variations-seed-version         95MiB |\n",
      "|    0   N/A  N/A      9558      G   /usr/bin/gnome-control-center                  13MiB |\n",
      "|    0   N/A  N/A     63415      G   /usr/bin/nautilus                              35MiB |\n",
      "|    0   N/A  N/A     87210      C   ...aconda3/envs/huggingface/bin/python       7526MiB |\n",
      "|    1   N/A  N/A      7249      G   /usr/lib/xorg/Xorg                              4MiB |\n",
      "|    1   N/A  N/A     87210      C   ...aconda3/envs/huggingface/bin/python       8508MiB |\n",
      "+-----------------------------------------------------------------------------------------+\n"
     ]
    }
   ],
   "source": [
    "# Check GPU Memory Usage\n",
    "!nvidia-smi"
   ]
  },
  {
   "cell_type": "markdown",
   "metadata": {},
   "source": [
    "## Import PaliGemma Model and Check GPU Usage"
   ]
  },
  {
   "cell_type": "code",
   "execution_count": null,
   "metadata": {},
   "outputs": [
    {
     "name": "stderr",
     "output_type": "stream",
     "text": [
      "Downloading shards: 100%|██████████| 3/3 [05:32<00:00, 110.99s/it]\n",
      "Loading checkpoint shards: 100%|██████████| 3/3 [00:19<00:00,  6.66s/it]\n"
     ]
    }
   ],
   "source": [
    "from transformers import AutoProcessor, PaliGemmaForConditionalGeneration\n",
    "\n",
    "paligemma_model_id = \"google/paligemma-3b-mix-224\"\n",
    "paligemma_processor = AutoProcessor.from_pretrained(paligemma_model_id)\n",
    "paligemma_model = PaliGemmaForConditionalGeneration.from_pretrained(paligemma_model_id,\n",
    "    torch_dtype=torch.float16,\n",
    "    low_cpu_mem_usage=True,\n",
    "    device_map=\"auto\")\n"
   ]
  },
  {
   "cell_type": "code",
   "execution_count": 9,
   "metadata": {},
   "outputs": [
    {
     "name": "stdout",
     "output_type": "stream",
     "text": [
      "Wed Feb 19 01:50:52 2025       \n",
      "+-----------------------------------------------------------------------------------------+\n",
      "| NVIDIA-SMI 550.120                Driver Version: 550.120        CUDA Version: 12.4     |\n",
      "|-----------------------------------------+------------------------+----------------------+\n",
      "| GPU  Name                 Persistence-M | Bus-Id          Disp.A | Volatile Uncorr. ECC |\n",
      "| Fan  Temp   Perf          Pwr:Usage/Cap |           Memory-Usage | GPU-Util  Compute M. |\n",
      "|                                         |                        |               MIG M. |\n",
      "|=========================================+========================+======================|\n",
      "|   0  NVIDIA GeForce RTX 3090        Off |   00000000:01:00.0  On |                  N/A |\n",
      "| 30%   33C    P8             42W /  350W |   11446MiB /  24576MiB |     31%      Default |\n",
      "|                                         |                        |                  N/A |\n",
      "+-----------------------------------------+------------------------+----------------------+\n",
      "|   1  NVIDIA GeForce RTX 3090        Off |   00000000:02:00.0 Off |                  N/A |\n",
      "| 30%   34C    P8             29W /  350W |   10879MiB /  24576MiB |      0%      Default |\n",
      "|                                         |                        |                  N/A |\n",
      "+-----------------------------------------+------------------------+----------------------+\n",
      "                                                                                         \n",
      "+-----------------------------------------------------------------------------------------+\n",
      "| Processes:                                                                              |\n",
      "|  GPU   GI   CI        PID   Type   Process name                              GPU Memory |\n",
      "|        ID   ID                                                               Usage      |\n",
      "|=========================================================================================|\n",
      "|    0   N/A  N/A      7249      G   /usr/lib/xorg/Xorg                            347MiB |\n",
      "|    0   N/A  N/A      7544      G   /usr/bin/gnome-shell                           44MiB |\n",
      "|    0   N/A  N/A      8110      G   /usr/libexec/xdg-desktop-portal-gnome          12MiB |\n",
      "|    0   N/A  N/A      8354      G   ...f41071bbc46dccb261fbce7f060d1717b6f         42MiB |\n",
      "|    0   N/A  N/A      9128      G   ...erProcess --variations-seed-version         90MiB |\n",
      "|    0   N/A  N/A      9558      G   /usr/bin/gnome-control-center                  13MiB |\n",
      "|    0   N/A  N/A     63415      G   /usr/bin/nautilus                              34MiB |\n",
      "|    0   N/A  N/A     87210      C   ...aconda3/envs/huggingface/bin/python      10832MiB |\n",
      "|    1   N/A  N/A      7249      G   /usr/lib/xorg/Xorg                              4MiB |\n",
      "|    1   N/A  N/A     87210      C   ...aconda3/envs/huggingface/bin/python      10862MiB |\n",
      "+-----------------------------------------------------------------------------------------+\n"
     ]
    }
   ],
   "source": [
    "# Check GPU Memory Usage\n",
    "!nvidia-smi"
   ]
  },
  {
   "cell_type": "markdown",
   "metadata": {},
   "source": [
    "## Import Qwen2VL Model and Check GPU Usage"
   ]
  },
  {
   "cell_type": "code",
   "execution_count": null,
   "metadata": {},
   "outputs": [
    {
     "name": "stderr",
     "output_type": "stream",
     "text": [
      "Downloading shards: 100%|██████████| 5/5 [08:46<00:00, 105.39s/it]\n",
      "Loading checkpoint shards: 100%|██████████| 5/5 [00:40<00:00,  8.10s/it]\n"
     ]
    }
   ],
   "source": [
    "import torch\n",
    "from transformers import Qwen2VLForConditionalGeneration, AutoTokenizer, AutoProcessor\n",
    "\n",
    "qwen2vl_model_id= \"Qwen/Qwen2-VL-7B-Instruct\"\n",
    "processor = AutoProcessor.from_pretrained(qwen2vl_model_id)\n",
    "qwen2vl_model = Qwen2VLForConditionalGeneration.from_pretrained(\n",
    "    qwen2vl_model_id,\n",
    "    torch_dtype=torch.float16,\n",
    "    low_cpu_mem_usage=True,\n",
    "    device_map=\"auto\" \n",
    "    )\n"
   ]
  },
  {
   "cell_type": "code",
   "execution_count": 11,
   "metadata": {},
   "outputs": [
    {
     "name": "stdout",
     "output_type": "stream",
     "text": [
      "Wed Feb 19 02:14:00 2025       \n",
      "+-----------------------------------------------------------------------------------------+\n",
      "| NVIDIA-SMI 550.120                Driver Version: 550.120        CUDA Version: 12.4     |\n",
      "|-----------------------------------------+------------------------+----------------------+\n",
      "| GPU  Name                 Persistence-M | Bus-Id          Disp.A | Volatile Uncorr. ECC |\n",
      "| Fan  Temp   Perf          Pwr:Usage/Cap |           Memory-Usage | GPU-Util  Compute M. |\n",
      "|                                         |                        |               MIG M. |\n",
      "|=========================================+========================+======================|\n",
      "|   0  NVIDIA GeForce RTX 3090        Off |   00000000:01:00.0  On |                  N/A |\n",
      "| 30%   31C    P8             40W /  350W |   11562MiB /  24576MiB |      4%      Default |\n",
      "|                                         |                        |                  N/A |\n",
      "+-----------------------------------------+------------------------+----------------------+\n",
      "|   1  NVIDIA GeForce RTX 3090        Off |   00000000:02:00.0 Off |                  N/A |\n",
      "| 30%   29C    P8             26W /  350W |   11281MiB /  24576MiB |      0%      Default |\n",
      "|                                         |                        |                  N/A |\n",
      "+-----------------------------------------+------------------------+----------------------+\n",
      "                                                                                         \n",
      "+-----------------------------------------------------------------------------------------+\n",
      "| Processes:                                                                              |\n",
      "|  GPU   GI   CI        PID   Type   Process name                              GPU Memory |\n",
      "|        ID   ID                                                               Usage      |\n",
      "|=========================================================================================|\n",
      "|    0   N/A  N/A      7249      G   /usr/lib/xorg/Xorg                            344MiB |\n",
      "|    0   N/A  N/A      7544      G   /usr/bin/gnome-shell                           42MiB |\n",
      "|    0   N/A  N/A      8110      G   /usr/libexec/xdg-desktop-portal-gnome          12MiB |\n",
      "|    0   N/A  N/A      8354      G   ...f41071bbc46dccb261fbce7f060d1717b6f         36MiB |\n",
      "|    0   N/A  N/A      9128      G   ...erProcess --variations-seed-version         87MiB |\n",
      "|    0   N/A  N/A      9558      G   /usr/bin/gnome-control-center                  13MiB |\n",
      "|    0   N/A  N/A     63415      G   /usr/bin/nautilus                              32MiB |\n",
      "|    0   N/A  N/A     87210      C   ...aconda3/envs/huggingface/bin/python      10966MiB |\n",
      "|    1   N/A  N/A      7249      G   /usr/lib/xorg/Xorg                              4MiB |\n",
      "|    1   N/A  N/A     87210      C   ...aconda3/envs/huggingface/bin/python      11264MiB |\n",
      "+-----------------------------------------------------------------------------------------+\n"
     ]
    }
   ],
   "source": [
    "# Check GPU Memory Usage\n",
    "!nvidia-smi"
   ]
  },
  {
   "cell_type": "markdown",
   "metadata": {},
   "source": [
    "## Run Inference using each model on the Sample Image"
   ]
  },
  {
   "cell_type": "markdown",
   "metadata": {},
   "source": [
    "## Evaluate each Model on the clean platinum bench's vqa and gsm8k subsets"
   ]
  },
  {
   "cell_type": "markdown",
   "metadata": {},
   "source": [
    "## Evaluate on vqa and gsm8k subsets (as in Task 3) on Qwen2VL]"
   ]
  }
 ],
 "metadata": {
  "kernelspec": {
   "display_name": "huggingface",
   "language": "python",
   "name": "python3"
  },
  "language_info": {
   "codemirror_mode": {
    "name": "ipython",
    "version": 3
   },
   "file_extension": ".py",
   "mimetype": "text/x-python",
   "name": "python",
   "nbconvert_exporter": "python",
   "pygments_lexer": "ipython3",
   "version": "3.10.16"
  }
 },
 "nbformat": 4,
 "nbformat_minor": 2
}
